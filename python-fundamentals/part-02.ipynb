{
  "cells": [
    {
      "cell_type": "markdown",
      "metadata": {
        "id": "5LzJABhI_sRw"
      },
      "source": [
        "Technology and Communication 第12回授業資料\n",
        "\n",
        "# Pythonプログラミング入門（Part 2）解答付"
      ]
    },
    {
      "cell_type": "markdown",
      "metadata": {
        "id": "dNoMD4nm_sR0"
      },
      "source": [
        "この授業資料では 🐍 Python というプログラミング言語の基本的な使い方を学び、下記を目指します。\n",
        "\n",
        "- コンピュータ・プログラミングとはどのようなものかを知る。\n",
        "- これまでにTechnology and Communicationの授業で学んできたことを「コード」を用いて確認する。\n",
        "- AI時代のコミュニケーションについて考える上で必須となる知識やスキルの基盤を作る。"
      ]
    },
    {
      "cell_type": "markdown",
      "metadata": {
        "id": "iFAbBO_v_sR1"
      },
      "source": [
        "## 1. 基本型についての補足\n",
        "\n",
        "ここでは、前回の授業資料で学んだ基本的な型をおさらいし、補足を加えます。"
      ]
    },
    {
      "cell_type": "markdown",
      "metadata": {
        "id": "VUSdJEMs_sR1"
      },
      "source": [
        "### 1.1. 文字列型"
      ]
    },
    {
      "cell_type": "code",
      "execution_count": null,
      "metadata": {
        "id": "H23tI07L_sR2"
      },
      "outputs": [],
      "source": [
        "# 文字列型\n",
        "dkc = \"同志社大学京田辺キャンパス\""
      ]
    },
    {
      "cell_type": "markdown",
      "metadata": {
        "id": "SVARXKHY_sR3"
      },
      "source": [
        "> 📖 **参考**\n",
        ">\n",
        "> 複数の文字列を結合したいときには `+` を用いることができますが、「文字列の中に別の文字列を埋め込む」こともできます。\n",
        "> \n",
        "> `f-string` を使用すると、次のように、`{変数名}` という形式で文字列の途中に別の文字列を埋め込むことができます。"
      ]
    },
    {
      "cell_type": "code",
      "execution_count": null,
      "metadata": {
        "colab": {
          "base_uri": "https://localhost:8080/"
        },
        "id": "ZHdAgNei_sR3",
        "outputId": "0cef5998-51de-406f-9d5c-2a2e9703ac2d"
      },
      "outputs": [
        {
          "output_type": "stream",
          "name": "stdout",
          "text": [
            "私は同志社大学京田辺キャンパスに通っています。\n"
          ]
        }
      ],
      "source": [
        "print(f\"私は{dkc}に通っています。\")"
      ]
    },
    {
      "cell_type": "markdown",
      "source": [
        "> 📖 **参考**\n",
        ">\n",
        "> 文字列の中で改行を行いたいときは `\\n` を用います。`\\` は「バックスラッシュ」と読みます。日本語JISキーボードでは `¥` を打鍵すると入力できます（Macの場合は ⌥ キーと一緒に打鍵します）。うまく入力できないときにはコピー&ペーストで乗り切りましょう。"
      ],
      "metadata": {
        "id": "msJ-TM4k_3xC"
      }
    },
    {
      "cell_type": "code",
      "source": [
        "print(\"610-0394\\n京都府京田辺市多々羅都谷1-3\\n同志社大学京田辺キャンパス\")"
      ],
      "metadata": {
        "colab": {
          "base_uri": "https://localhost:8080/"
        },
        "id": "3F9JNTtIAqH0",
        "outputId": "d5b8e95e-bf2e-4208-e1f4-4bef4f13fba8"
      },
      "execution_count": null,
      "outputs": [
        {
          "output_type": "stream",
          "name": "stdout",
          "text": [
            "610-0394\n",
            "京都府京田辺市多々羅都谷1-3\n",
            "同志社大学京田辺キャンパス\n"
          ]
        }
      ]
    },
    {
      "cell_type": "markdown",
      "metadata": {
        "id": "160ztP_i_sR4"
      },
      "source": [
        "### 1.2. 整数型と不動小数点型"
      ]
    },
    {
      "cell_type": "code",
      "execution_count": null,
      "metadata": {
        "colab": {
          "base_uri": "https://localhost:8080/"
        },
        "id": "L52DILWO_sR4",
        "outputId": "d4488f27-a198-492a-b4c0-5936311ea23f"
      },
      "outputs": [
        {
          "output_type": "stream",
          "name": "stdout",
          "text": [
            "<class 'int'>\n",
            "<class 'float'>\n"
          ]
        }
      ],
      "source": [
        "# 整数型\n",
        "i = 5\n",
        "print(type(i))\n",
        "\n",
        "# 不動小数点型\n",
        "f = 5.1\n",
        "print(type(f))"
      ]
    },
    {
      "cell_type": "markdown",
      "metadata": {
        "id": "25iXR5N8_sR5"
      },
      "source": [
        "### 1.3. ブール型\n",
        "\n",
        "ブール型の値は `True`, `False` の2種類だけです。"
      ]
    },
    {
      "cell_type": "markdown",
      "metadata": {
        "id": "3YhrmfyH_sR5"
      },
      "source": [
        "> 📖 **参考**\n",
        ">\n",
        "> コンピュータ・プログラミングの世界では、真か偽かの値（真偽値）を、19世紀の数学者George Booleに因んでBoolean（ブール型）と呼ぶことがあります。"
      ]
    },
    {
      "cell_type": "markdown",
      "metadata": {
        "id": "4gKrJyxw_sR5"
      },
      "source": [
        "前回の資料でみた `==` で2要素を比較するとブール型の値が戻ってきます（True, False）。他にも次のような演算子でブール型の値を得ることができます。\n",
        "\n",
        "- A `==` B （等しい\n",
        "- A `!=` B （等しくない）\n",
        "- A `>` B （AはBより大きい）\n",
        "- A `<` B （AはBより小さい）\n",
        "- A `>=` B （AはB以上である）\n",
        "- A `<=` B （AはB以下である）\n"
      ]
    },
    {
      "cell_type": "markdown",
      "metadata": {
        "id": "AIREhE99_sR6"
      },
      "source": [
        "ブール型の値の論理和は `or` 、論理積は `or` で求めることができます。\n",
        "\n",
        "「論理和」は「AまたはB」に対応します。「論理積」は「AかつB」に対応します。"
      ]
    },
    {
      "cell_type": "code",
      "execution_count": null,
      "metadata": {
        "colab": {
          "base_uri": "https://localhost:8080/"
        },
        "id": "BkFtBZp2_sR6",
        "outputId": "7363ac85-2ef9-4467-d9ed-aef9cc8ae762"
      },
      "outputs": [
        {
          "output_type": "stream",
          "name": "stdout",
          "text": [
            "True OR True →  True\n",
            "False OR True →  True\n",
            "False OR False →  False\n",
            "True AND True → True\n",
            "True AND False →  False\n",
            "False AND False → False\n"
          ]
        }
      ],
      "source": [
        "# ブール型の論理演算\n",
        "\n",
        "a = True  # 同志社大学は京都にある\n",
        "b = False # 同志社大学は大阪にある\n",
        "c = True  # 同志社大学は私立である\n",
        "d = False # 同志社大学は公立である\n",
        "\n",
        "print(\"True OR True → \", a or c)       # 同志社大学は京都にある OR  同志社大学は私立である \n",
        "print(\"False OR True → \", b or c)      # 同志社大学は大阪にある OR  同志社大学は私立である\n",
        "print(\"False OR False → \", b or d)     # 同志社大学は大阪にある OR 同志社大学は公立である \n",
        "\n",
        "print(\"True AND True →\", a and c)   # 同志社大学は京都にある AND 同志社大学は私立である \n",
        "print(\"True AND False → \", a and d) # 同志社大学は京都にある AND 同志社大学は公立である\n",
        "print(\"False AND False →\", b or d)   # 同志社大学は大阪にある AND 同志社大学は公立である"
      ]
    },
    {
      "cell_type": "markdown",
      "metadata": {
        "id": "_-xutRXM_sR_"
      },
      "source": [
        "### 1.4. その他の型\n",
        "\n",
        "Pythonには他にも次のような基本型が存在します。\n",
        "\n",
        "- バイト型：`bytes`\n",
        "- 範囲型：`range`\n",
        "- 集合型：`set`\n",
        "- タプル型： `tuple`\n",
        "- リスト型：`list`\n",
        "- 辞書型：`dict`\n",
        "\n",
        "このうち、タプル型、リスト型、辞書型については次節で解説します。"
      ]
    },
    {
      "cell_type": "markdown",
      "metadata": {
        "id": "zhpzR2B4_sR7"
      },
      "source": [
        "## 2. タプル・リスト・辞書\n",
        "\n",
        "ここでは、Pythonで多用される3つの発展的な型を学びます。"
      ]
    },
    {
      "cell_type": "markdown",
      "metadata": {
        "id": "fdd_XmuR_sR7"
      },
      "source": [
        "### 2.1. タプル\n",
        "\n",
        "タプル（tuple）は複数の要素をまとめる際に用いる型です。タプル型のオブジェクトは `(要素1, 要素2, ..., 要素n)` のようにして作成します。\n",
        "\n",
        "タプル型のオブジェクトはいったん作ると変更することができません。このように「変更できない」性質のことをイミュータブル（immutable）と言うことがあります。"
      ]
    },
    {
      "cell_type": "code",
      "execution_count": null,
      "metadata": {
        "colab": {
          "base_uri": "https://localhost:8080/"
        },
        "id": "4ingMuol_sR7",
        "outputId": "5fcb9644-2f9b-427e-c86d-3eaa1f6917b6"
      },
      "outputs": [
        {
          "output_type": "stream",
          "name": "stdout",
          "text": [
            "京田辺キャンパスの緯度・経度 (34.8011, 135.7684)\n",
            "今出川キャンパスの緯度・経度 (35.0301, 135.7607)\n"
          ]
        }
      ],
      "source": [
        "# タプル\n",
        "\n",
        "latitude = 34.8011   # 同志社大学京田辺キャンパスの緯度\n",
        "longitude = 135.7684 # 同志社大学京田辺キャンパスの経度\n",
        "\n",
        "location = (latitude, longitude)\n",
        "print(\"京田辺キャンパスの緯度・経度\", location)\n",
        "\n",
        "new_latitude = 35.0301\n",
        "new_longitude = 135.7607\n",
        "\n",
        "location = (new_latitude, new_longitude)\n",
        "print(\"今出川キャンパスの緯度・経度\", location)"
      ]
    },
    {
      "cell_type": "markdown",
      "metadata": {
        "id": "S9O-lHd-_sR8"
      },
      "source": [
        "上記のコードでは、`location`変数に、京田辺キャンパスの緯度と経度を表すタプルを代入してプリントした後で、今出川キャンパスの緯度と経度を表すタプルを再代入しています。\n",
        "\n",
        "上記では、同じ`location`変数に **異なるタプル型オブジェクト** が代入されていることに注意しましょう。タプルはイミュータブルなので、それ自体に後から変更を加えることはできません。"
      ]
    },
    {
      "cell_type": "markdown",
      "metadata": {
        "id": "Bq_CWBvT_sR8"
      },
      "source": [
        "### 2.2. リスト\n",
        "\n",
        "リスト（list）も複数の要素をまとめる際に用いられる型です。リスト型のオブジェクトは `[要素1, 要素2, ..., 要素n]` のようにして作成します（途中で改行を入れても構いません）。\n",
        "\n",
        "リスト型のオブジェクトは後から自由に変更が可能です。このように「変更できる」性質のことをミュータブル（mutable）ということがあります。\n",
        "\n",
        "リスト型のオブジェクトから単一の要素を取り出すときにはインデックスを使用します。インデックスの使用方法は文字列の場合と基本的に同じです。範囲で指定して取り出すことも可能です。\n",
        "\n",
        "```\n",
        "リスト[開始インデックス:終了インデックス]\n",
        "\n",
        "| 同 | 志 | 社 | 大 | 学 |\n",
        "0    1    2    3    4    5\n",
        "```"
      ]
    },
    {
      "cell_type": "code",
      "execution_count": null,
      "metadata": {
        "colab": {
          "base_uri": "https://localhost:8080/"
        },
        "id": "ZIqdSAgT_sR8",
        "outputId": "8c732445-3b8e-4fcf-fd50-95489a7ab60e"
      },
      "outputs": [
        {
          "output_type": "stream",
          "name": "stdout",
          "text": [
            "同\n",
            "志\n",
            "社\n",
            "大\n",
            "学\n",
            "['同', '志', '社', '大', '学']\n"
          ]
        }
      ],
      "source": [
        "du = [\"同\", \"志\", \"社\", \"大\", \"学\"]\n",
        "\n",
        "print(du[0])\n",
        "print(du[1])\n",
        "print(du[2])\n",
        "print(du[3])\n",
        "print(du[4])\n",
        "\n",
        "print(du[0:])"
      ]
    },
    {
      "cell_type": "markdown",
      "metadata": {
        "id": "TQEl3QfJ_sR9"
      },
      "source": [
        "> 👉 **参考** \n",
        "> \n",
        "> 次の操作はよく行う操作なので覚えておくとよいでしょう。\n",
        "> \n",
        "> - 文字列を分割してリストにする\n",
        "> - リストの要素を結合して文字列にする"
      ]
    },
    {
      "cell_type": "code",
      "execution_count": null,
      "metadata": {
        "id": "ga3aGFxz_sR9",
        "outputId": "e5a289ee-94b1-448c-b741-476b2e164037",
        "colab": {
          "base_uri": "https://localhost:8080/"
        }
      },
      "outputs": [
        {
          "output_type": "stream",
          "name": "stdout",
          "text": [
            "['同', '志', '社', '大', '学']\n",
            "['同', '志', '社', '大', '学']\n",
            "同志社大学\n",
            "同▽️志▽️社▽️大▽️学\n"
          ]
        }
      ],
      "source": [
        "du_str = \"同志社大学\"\n",
        "print(du)\n",
        "\n",
        "du_list = list(du)\n",
        "print(du_list)\n",
        "\n",
        "du_str1 = \"\".join(du_list)\n",
        "print(du_str1)\n",
        "\n",
        "du_str2 = \"▽️\".join(du_list)\n",
        "print(du_str2)\n"
      ]
    },
    {
      "cell_type": "markdown",
      "metadata": {
        "id": "-R5T13Lz_sR9"
      },
      "source": [
        "イミュータブルなタプルと違い、リストはミュータブルであることを確認しましょう。\n",
        "\n",
        "下記のコードでは、`faculties`という変数にリストを代入したのち、`append`というメソッドを用いて要素を追加したり、特定の要素を書き換えたりしています。"
      ]
    },
    {
      "cell_type": "markdown",
      "source": [
        "> 👉 **参考**\n",
        "> \n",
        "> 「メソッド」とはオブジェクト自体が持っている関数のようなものです。オブジェクトのメソッドは関数の> 場合と同様に`( )`と共に呼び出します。その際、必要に応じて引数を与えます。"
      ],
      "metadata": {
        "id": "9tHNOuOJFv_N"
      }
    },
    {
      "cell_type": "code",
      "execution_count": null,
      "metadata": {
        "colab": {
          "base_uri": "https://localhost:8080/"
        },
        "id": "ekt8GUMP_sR-",
        "outputId": "c2c5bf7c-e934-42aa-df9c-759a6da3ccea"
      },
      "outputs": [
        {
          "output_type": "stream",
          "name": "stdout",
          "text": [
            "-2003 ['神学部', '文学部', '法学部', '経済学部', '商学部', '工学部']\n",
            "2004- ['神学部', '文学部', '法学部', '経済学部', '商学部', '工学部', '政策学部']\n",
            "2005- ['神学部', '文学部', '法学部', '経済学部', '商学部', '工学部', '政策学部', '社会学部', '文化情報学部']\n",
            "2008- ['神学部', '文学部', '法学部', '経済学部', '商学部', '理工学部', '政策学部', '社会学部', '文化情報学部', '生命医科学部', 'スポーツ健康科学部']\n",
            "2009- ['神学部', '文学部', '法学部', '経済学部', '商学部', '理工学部', '政策学部', '社会学部', '文化情報学部', '生命医科学部', 'スポーツ健康科学部', '心理学部']\n",
            "2011- ['神学部', '文学部', '法学部', '経済学部', '商学部', '理工学部', '政策学部', '社会学部', '文化情報学部', '生命医科学部', 'スポーツ健康科学部', '心理学部', 'グローバル・コミュニケーション学部']\n",
            "2013- ['神学部', '文学部', '法学部', '経済学部', '商学部', '理工学部', '政策学部', '社会学部', '文化情報学部', '生命医科学部', 'スポーツ健康科学部', '心理学部', 'グローバル・コミュニケーション学部', 'グローバル地域文化学部']\n"
          ]
        }
      ],
      "source": [
        "# リスト\n",
        "\n",
        "faculties = [\"神学部\", \"文学部\", \"法学部\", \"経済学部\", \"商学部\", \"工学部\"]\n",
        "print(\"-2003\", faculties)\n",
        "\n",
        "faculties.append(\"政策学部\")\n",
        "print(\"2004-\", faculties)\n",
        "\n",
        "faculties.append(\"社会学部\")\n",
        "faculties.append(\"文化情報学部\")\n",
        "print(\"2005-\", faculties)\n",
        "\n",
        "faculties[5] = \"理工学部\"\n",
        "faculties.append(\"生命医科学部\")\n",
        "faculties.append(\"スポーツ健康科学部\")\n",
        "print(\"2008-\", faculties)\n",
        "\n",
        "faculties.append(\"心理学部\")\n",
        "print(\"2009-\", faculties)\n",
        "\n",
        "faculties.append(\"グローバル・コミュニケーション学部\")\n",
        "print(\"2011-\", faculties)\n",
        "\n",
        "faculties.append(\"グローバル地域文化学部\")\n",
        "print(\"2013-\", faculties)"
      ]
    },
    {
      "cell_type": "markdown",
      "metadata": {
        "id": "vJcul7RA_sR-"
      },
      "source": [
        "### 2.3. 辞書\n",
        "\n",
        "辞書（dictionary）型は複数のオブジェクトをまとめるためのミュータブルな型であり、リスト型に似ています。ただし、辞書型はキー（key）と値（value）のペアから構成されており、キーを用いて値を呼び出すことが可能です。\n",
        "\n",
        "辞書型のオブジェクトから値を取り出すには `オブジェクト名[キー文字列]` のようにします。"
      ]
    },
    {
      "cell_type": "code",
      "execution_count": null,
      "metadata": {
        "colab": {
          "base_uri": "https://localhost:8080/"
        },
        "id": "xEr32m2V_sR-",
        "outputId": "8b8169c2-0157-421c-cbc2-8bac76fb9971"
      },
      "outputs": [
        {
          "output_type": "stream",
          "name": "stdout",
          "text": [
            "本授業は毎週金曜日に知真館1号館で実施しています。\n"
          ]
        }
      ],
      "source": [
        "# 辞書\n",
        "buildings = {\n",
        "    \"TC\": \"知真館\",\n",
        "    \"KD\": \"恵道館\",\n",
        "    \"TS\": \"頌真館\",\n",
        "    \"MK\": \"夢告館\",\n",
        "    \"JM\": \"情報メディア館\"\n",
        "}\n",
        "\n",
        "print(f\"本授業は毎週金曜日に{buildings['TC']}1号館で実施しています。\")"
      ]
    },
    {
      "cell_type": "markdown",
      "metadata": {
        "id": "FgC16CWd_sR_"
      },
      "source": [
        "> 📖 **参考**\n",
        ">\n",
        "> 二重引用符を使用して作成した文字列の中に辞書から取り出した文字列を埋め込みたいとき、キー文字列にも二重引用符を使ってしまうと上手くいきません。そのような場合は、上のコードのように、どちらかで一重引用符を用いるようにしましょう。"
      ]
    },
    {
      "cell_type": "markdown",
      "metadata": {
        "id": "SBcjvR-2_sR_"
      },
      "source": [
        "### 2.4. `for` を用いたループ処理\n",
        "\n",
        "タプル型、リスト型、辞書型のオブジェクトは、複数の要素を内部に含むことができます。実際のところ、「リストのリスト」（＝リスト型の要素から構成されるリスト）や「辞書のリスト」（＝辞書型の要素から構成されるリスト）を作成することもできます。\n",
        "\n",
        "リストに含まれる要素に対して同じ処理を適用するときには、`for`ループを用います。`for`ループの中で`for`ループを使うこともできます。"
      ]
    },
    {
      "cell_type": "code",
      "execution_count": null,
      "metadata": {
        "colab": {
          "base_uri": "https://localhost:8080/"
        },
        "id": "lLLo3t3z_sR_",
        "outputId": "f985683e-3df6-4523-db8c-c413bcac726e"
      },
      "outputs": [
        {
          "output_type": "stream",
          "name": "stdout",
          "text": [
            "[1, 2, 3]\n",
            "[4, 5, 6]\n",
            "[7, 8, 9]\n",
            "1\n",
            "2\n",
            "3\n",
            "4\n",
            "5\n",
            "6\n",
            "7\n",
            "8\n",
            "9\n"
          ]
        }
      ],
      "source": [
        "# これはリストのリスト\n",
        "matrix = [[1, 2, 3], [4, 5, 6], [7, 8, 9]]\n",
        "\n",
        "for ns in matrix:\n",
        "    print(ns)\n",
        "\n",
        "for ns in matrix:\n",
        "    for n in ns:\n",
        "        print(n)"
      ]
    },
    {
      "cell_type": "markdown",
      "metadata": {
        "id": "hmQDZDhM_sR_"
      },
      "source": [
        "辞書については、次のような操作が可能です。\n",
        "\n",
        "- 辞書からキーだけをリストとして取り出す\n",
        "- 辞書から値だけをリストとして取り出す\n",
        "- 辞書のキーと値のペアをタプルのリストとして取り出す"
      ]
    },
    {
      "cell_type": "code",
      "execution_count": null,
      "metadata": {
        "colab": {
          "base_uri": "https://localhost:8080/"
        },
        "id": "MRTvm3Uv_sSA",
        "outputId": "2372e84a-48cb-4434-c58b-17ade77cd16a"
      },
      "outputs": [
        {
          "output_type": "stream",
          "name": "stdout",
          "text": [
            "['USA', 'Canada', 'UK', 'Australia', 'New Zealand']\n",
            "['Washington, D.C.', 'Ottawa', 'London', 'Canberra', 'Wellington']\n",
            "[('USA', 'Washington, D.C.'), ('Canada', 'Ottawa'), ('UK', 'London'), ('Australia', 'Canberra'), ('New Zealand', 'Wellington')]\n"
          ]
        }
      ],
      "source": [
        "# 辞書\n",
        "\n",
        "capitals = {\n",
        "    \"USA\": \"Washington, D.C.\",\n",
        "    \"Canada\": \"Ottawa\",\n",
        "    \"UK\": \"London\",\n",
        "    \"Australia\": \"Canberra\",\n",
        "    \"New Zealand\": \"Wellington\"\n",
        "}\n",
        "\n",
        "print(list(capitals.keys()))\n",
        "\n",
        "print(list(capitals.values()))\n",
        "\n",
        "print(list(capitals.items()))"
      ]
    },
    {
      "cell_type": "markdown",
      "metadata": {
        "id": "Xnt49Ca0_sSA"
      },
      "source": [
        "最後の `items` メソッドを用いると、辞書に含まれるすべての要素に対して、キーと値を両方用いた処理が可能になります。"
      ]
    },
    {
      "cell_type": "code",
      "execution_count": null,
      "metadata": {
        "id": "GACIXcgJ_sSA",
        "outputId": "966888cb-097d-448b-cb44-8b4ccb76b933",
        "colab": {
          "base_uri": "https://localhost:8080/"
        }
      },
      "outputs": [
        {
          "output_type": "stream",
          "name": "stdout",
          "text": [
            "USAの首都はWashington, D.C.です。\n",
            "Canadaの首都はOttawaです。\n",
            "UKの首都はLondonです。\n",
            "Australiaの首都はCanberraです。\n",
            "New Zealandの首都はWellingtonです。\n"
          ]
        }
      ],
      "source": [
        "for (country, capital) in capitals.items():\n",
        "    print(f\"{country}の首都は{capital}です。\")"
      ]
    },
    {
      "cell_type": "markdown",
      "metadata": {
        "id": "RfWbN-ad_sSA"
      },
      "source": [
        "### ⚡ 練習問題 1\n",
        "\n",
        "「リスト型の要素を含んだ辞書」に対する処理を行う練習をしましょう。\n",
        "\n",
        "下記は同志社大学グローバル・コミュニケーション学部の留学（SA）先を国別に分類したものです。\n",
        "\n",
        "```\n",
        "# リスト型の要素を含んだ辞書\n",
        "\n",
        "sa_universities = {\n",
        "  \"UK\": [\"University of Southampton\", \"University of Sussex\"],\n",
        "  \"Australia\": [\"Deakin University\", \"University of Newcastle\"],\n",
        "  \"New Zealand\": [\"Victoria University of Wellington\"],\n",
        "  \"Canada\": [\"Acadia University\", \"University of Winnipeg\", \"University of Guelph\", \"Brock University\", \"Vancouver Island University\"],\n",
        "  \"USA\": [\"University of Utah\", \"University of Montana\", \"University of California, Riverside\", \"University of California, Davis\", \"Arizona State University\"]\n",
        "}\n",
        "```\n",
        "\n",
        "このデータ（`sa_universities`)を使って、画面に下記のように表示する方法を考えてみましょう。\n",
        "\n",
        "```\n",
        "[UK]\n",
        "- University of Southampton\n",
        "- University of Sussex\n",
        "[Australia]\n",
        "- Deakin University\n",
        "- University of Newcastle\n",
        "[New Zealand]\n",
        "- Victoria University of Wellington\n",
        "[Canada]\n",
        "- Acadia University\n",
        "- University of Winnipeg\n",
        "- University of Guelph\n",
        "- Brock University\n",
        "- Vancouver Island University\n",
        "[USA]\n",
        "- University of Utah\n",
        "- University of Montana\n",
        "- University of California, Riverside\n",
        "- University of California, Davis\n",
        "- Arizona State University\n",
        "```"
      ]
    },
    {
      "cell_type": "code",
      "execution_count": null,
      "metadata": {
        "colab": {
          "base_uri": "https://localhost:8080/"
        },
        "id": "BZeL3sy8_sSA",
        "outputId": "e135bc9f-dc71-470d-bf86-2b22fceeb479"
      },
      "outputs": [
        {
          "output_type": "stream",
          "name": "stdout",
          "text": [
            "[UK]\n",
            "- University of Southampton\n",
            "- University of Sussex\n",
            "[Australia]\n",
            "- Deakin University\n",
            "- University of Newcastle\n",
            "[New Zealand]\n",
            "- Victoria University of Wellington\n",
            "[Canada]\n",
            "- Acadia University\n",
            "- University of Winnipeg\n",
            "- University of Guelph\n",
            "- Brock University\n",
            "- Vancouver Island University\n",
            "[USA]\n",
            "- University of Utah\n",
            "- University of Montana\n",
            "- University of California, Riverside\n",
            "- University of California, Davis\n",
            "- Arizona State University\n"
          ]
        }
      ],
      "source": [
        "sa_universities = {\n",
        "  \"UK\": [\"University of Southampton\", \"University of Sussex\"],\n",
        "  \"Australia\": [\"Deakin University\", \"University of Newcastle\"],\n",
        "  \"New Zealand\": [\"Victoria University of Wellington\"],\n",
        "  \"Canada\": [\"Acadia University\", \"University of Winnipeg\", \"University of Guelph\", \"Brock University\", \"Vancouver Island University\"],\n",
        "  \"USA\": [\"University of Utah\", \"University of Montana\", \"University of California, Riverside\", \"University of California, Davis\", \"Arizona State University\"]\n",
        "}\n",
        "\n",
        "for (key, val) in sa_universities.items():\n",
        "    print(f\"[{key}]\")\n",
        "    for univ in val:\n",
        "        print(f\"- {univ}\")"
      ]
    },
    {
      "cell_type": "markdown",
      "metadata": {
        "id": "jQN69Yve_sSB"
      },
      "source": [
        "## 3. 関数について\n",
        "\n",
        "前回の資料で「関数の使い方」について学びました。ここでは、関数を自分で作る方法を学びましょう。関数を作成すると、同じ作業のたびにコードを書く必要がなくなります。言い換えると「コードの再利用」が可能になります。"
      ]
    },
    {
      "cell_type": "markdown",
      "source": [
        "### 3.1. 関数の作り方\n",
        "\n",
        "関数を定義するには、最初に `def` キーワードと共に、必要な数の引数を指定します。ここで各引数の名前は基本的に何でも構いません（通常は短いものが好まれます）。そして同じ行の最後に`:`（コロン）を付けます。\n",
        "\n",
        "関数の中身を定義する部分にはインデント（通常は半角スペース4つ）を施します。また、関数定義の最後の部分では `return` キーワードを用いて「戻り値」を指定します。\n",
        "\n",
        "下記では2つの値を足し合わせる`add`関数と、1つ目の引数の数から2つ目の引数の数を減じる`subtract`関数を定義しています。\n",
        "\n"
      ],
      "metadata": {
        "id": "MwLSuz2zLMLP"
      }
    },
    {
      "cell_type": "code",
      "execution_count": null,
      "metadata": {
        "colab": {
          "base_uri": "https://localhost:8080/"
        },
        "id": "rkH5S4na_sSB",
        "outputId": "ea7a123a-5e23-4c1b-9160-e97eb9056a9d"
      },
      "outputs": [
        {
          "output_type": "stream",
          "name": "stdout",
          "text": [
            "(50, -10, 0)\n"
          ]
        }
      ],
      "source": [
        "def add(x, y):\n",
        "    return x + y\n",
        "\n",
        "def subtract(x, y):\n",
        "    return x - y\n",
        "\n",
        "a1 = add(20, 30)                      # 20 + 30 = 50\n",
        "a2 = subtract(20, 30)               # 20 - 30 = -10\n",
        "a3 = subtract(add(a1, a2), 40)  # (50 + (-10)) - 40 = 0\n",
        "\n",
        "print((a1, a2, a3))"
      ]
    },
    {
      "cell_type": "markdown",
      "metadata": {
        "id": "tevyobyV_sSB"
      },
      "source": [
        "### 3.2. 再帰関数\n",
        "\n",
        "ある関数の中で、その関数自体を呼び出すことが可能です。このような「自分自身を呼び出す」関数を再帰関数とよび、それらを用いた処理を再帰処理と呼びます。\n",
        "\n",
        "再帰処理を用いたコードは複雑になりがちで、必ずしも処理効率が良いとは限らないので、使用する際には注意が必要ですが、ときに再帰処理はきわめて強力なツールになります。"
      ]
    },
    {
      "cell_type": "markdown",
      "metadata": {
        "id": "J-vl3LDg_sSC"
      },
      "source": [
        "フィボナッチ（fibonacci）数列という数列があります。フィボナッチ数列を構成する要素 $F_{n}$ は、2つ前の数 $F_{n-2}$ と1つ前の数 $F_{n-1}$ を足した数になります（数列の1番目の要素は0、2番目の要素は1とする）"
      ]
    },
    {
      "cell_type": "markdown",
      "metadata": {
        "id": "MI-qo7k7_sSC"
      },
      "source": [
        "フィボナッチ数列 ( $F_n$ ) は、次の漸化式で定義されます：\n",
        "\n",
        "$F_0 = 0,$ \\\n",
        "$F_1 = 1,$ \\\n",
        "$F_{n+2} = F_n + F_{n+1} (n ≥ 0)$\n",
        "\n",
        "第0～14項の値は次の通り：\n",
        "\n",
        "$0, 1, 1, 2, 3, 5, 8, 13, 21, 34, 55, 89, 144, 233, 377$"
      ]
    },
    {
      "cell_type": "markdown",
      "metadata": {
        "id": "2fLOnWbY_sSC"
      },
      "source": [
        "フィボナッチ数列はイタリアの数学者レオナルド・フィボナッチにちなんで名付けられたもので、自然界に多く現れると言われています。例えば植物の花や実に現れる螺旋の数もフィボナッチ数であることが多いようです。\n",
        "\n",
        "芸術作品や工業デザインでよく利用される「黄金比」とよばれるものも、フィボナッチ数列と関連しています。"
      ]
    },
    {
      "cell_type": "markdown",
      "source": [
        "![fibonacci-1.png](data:image/png;base64,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)"
      ],
      "metadata": {
        "id": "kOdFUoJ0G7Dj"
      }
    },
    {
      "cell_type": "markdown",
      "source": [
        "![fibonacci-2.png](data:image/png;base64,iVBORw0KGgoAAAANSUhEUgAAASwAAAC+CAYAAACPpDKJAAAAAXNSR0IArs4c6QAAAIRlWElmTU0AKgAAAAgABQESAAMAAAABAAEAAAEaAAUAAAABAAAASgEbAAUAAAABAAAAUgEoAAMAAAABAAIAAIdpAAQAAAABAAAAWgAAAAAAAABIAAAAAQAAAEgAAAABAAOgAQADAAAAAQABAACgAgAEAAAAAQAAASygAwAEAAAAAQAAAL4AAAAAS8BIMQAAAAlwSFlzAAALEwAACxMBAJqcGAAAAVlpVFh0WE1MOmNvbS5hZG9iZS54bXAAAAAAADx4OnhtcG1ldGEgeG1sbnM6eD0iYWRvYmU6bnM6bWV0YS8iIHg6eG1wdGs9IlhNUCBDb3JlIDYuMC4wIj4KICAgPHJkZjpSREYgeG1sbnM6cmRmPSJodHRwOi8vd3d3LnczLm9yZy8xOTk5LzAyLzIyLXJkZi1zeW50YXgtbnMjIj4KICAgICAgPHJkZjpEZXNjcmlwdGlvbiByZGY6YWJvdXQ9IiIKICAgICAgICAgICAgeG1sbnM6dGlmZj0iaHR0cDovL25zLmFkb2JlLmNvbS90aWZmLzEuMC8iPgogICAgICAgICA8dGlmZjpPcmllbnRhdGlvbj4xPC90aWZmOk9yaWVudGF0aW9uPgogICAgICA8L3JkZjpEZXNjcmlwdGlvbj4KICAgPC9yZGY6UkRGPgo8L3g6eG1wbWV0YT4KGV7hBwAALlBJREFUeAHtnQe4ZFWZrnvuiDMikpVMI5JEEEXUERhpmyACAiKKGAjiGBHRMTUy2i2KaRTj5eKgNhlERwUMCNpEBTGggOQGmpylAb3ozJ37vlXrP71PdVWfVOecXVX/9zzfXmvntb+91rf/tfauc2bMSKQCqUAqkAqkAqlAKpAKdFeBv+vu4fJoqUBtFKjW7f+pTamyIBNSoHpT40D/i8yTYbt1sU2mqUA3FOiGkXiMOE67NOqxadCyx3Lzo8V49hntsXO7JQp4H/8K/9+SRe1zeUPa65JLU4FUYOoVWMqPqgvM62yrwH3gqvC/oBFXIhUYiwIR6VinpHUo8j41rVd/gz5FpfPu00oWDUVPHmM5+DS4cqH5FeBTCv+B1G2eBD3f/4XRW3iizP+ZdDH8E3wI3g8fhZZBRDmrqcfz2MG/Jx9l/e+SJ2nsa5oYnwLWDe+f9+V78EHofR+KtLwRAVco/lbwg/AM6Ibe8KEdyCdSgXYK2MCF9UjYoDWBMCUNw2VWyBXhanAtuD6cCZ8Bx4s4j2nQ8jwdakwal6Zmff9HqOGMFtb96wpvI9Xg/gI9vga2PAxTDBMzTYxNAeuNdcR7dCBcBH8KvVdD/lM1LJY34E24GH60OZvTVGBCCtiYnwU3h88p3IR0PahpVfEIMw/D+wrvLakm4dPWJ6/bGBE9DjUOK3lEaZqVZuG80depcB78NdQkjeqs35qWRuMyozWNbQ24DlwXWjZTlxnBWXZ5F7wGerzL4G/gnTDRXQWsF94jMcz82xmWbuZNDfhENPJKDJ4CRhGyCuvH0BOvssJ6sgHUlLaBL4DPhWvDKox2boGXwOvhTfBWaMPXqIyINJ6JQnOyskfd1dxcZjoa+GTXyDQvDdaex9bw+XBnGNA4fwl/Bi+Cv4cuq8JjhY6WaVgjrG44wHk18v4I/addHWuEX40tljHpVEGXsUuu6mEFwqRMqw2+9ZJ8Cm4BXwy3h5qUXbyApnMt/Dm8El4Fb4Z3QKOiZcFz20WIsrhtNPJOqdsI97HOhkl4HOHD2QbhelE9djXv8d1fo7un8ArSU2BgfTIa2Hbwn+EsuBMUGu4CeE5JbyH1WFVYNuF54noaCwZ4EvdFCdSkOj8kizcxkQpYOaqNyIbUCseYjC52gLOgEdSTobBBXg3PgnaVNKgbYWukwaIGNBHPZ2rlDEYDdr61kbNoVGhb0dnTY4rWtLl06anHkZZRmrd8mt6iwrNJhd1GtdkR7gpfVUgyQ7P7LvwhVCMR1+ZxbYPOt9OcxYlOCkSFNdw9qbJRLK8symwfKGADtLFoOjacVjjGsy08El4EHRcKY3E86UfQlzNGVyvBdvC4hveOR5guB9udi8VdQxz/qRxRQ9FYhWXoBkK3uK52D/2nc6LXQKMyx91Ct9+Rfz/cCLbC+9DuWK3b9et81We+wUW+slxoR01ihzSsfq0SzeuyAtjY4n5Xr3ZdZl4PbWiOJ0VD8zMAI4TDoQag8bRCo9AUfBvn8T2PjXuqMdmG1e56vNa49lZd1cI29XX4AAxNzyev1q1mr3G105fFfY2qbmlYfX2rR744K4MNKrpw1T02Y+YwuABWu2S+CTsKvhQabbXCRqo5SRtYGAXZaUWUY7IirJEuTpNWZzVr1Vut9oBnQLuBmtcj8BjoC4oq3Ld1/+r6fsunYfXbHR3H9VjhbSSt2JQFdk0ug/HEf4z89+HBcCZshRXKY0kNajqiJ047IqbbsFoLqFZq1mo+a7DsHdBuYtyDn5DfHVZhhNa6b3V9v+TTsPrlTo7xOmyw7RrIOix/J7wURgNxLOoEuDdcBbbCxhLHCiNo3aZu81HO6YqwOukRkZd6RhljW982ngTjvjg4fxBU/4D7aX79ijSsfr2zHa7LLprdkGrkYzfQN1a+vYvG8Ch5G4eDmivCVthI3M/j9SLCDOpmWFUtLaMaVw3J9TPhPPgn6P1aBN8Bq9t5j6uNm9m+QPWacgyrL25p+4to1+3bkk0/D6uDvOcwvx9cFbbCBiGrlaZ1m16Z7wXDqmpp1FQ1JNetDB1XvAtqXHfCt8Hqw8iIq59QrXtpWP10Z8u1hMnEpWlc+8OLYERTdi3eC31yt8KG4j7VitK6TS/O95phhcbeB+9HqylpVHdD7+nN8HUw4Pb90k2s1sM0rLjDfZBaSavdNT9FsBtxP7RS/zf8FtwWtsJKYQWvVo7WbXp9vlcNK3S3/N6jqnHZfXwPtDvvPb4c/jMMuL66fSzvpbRaJ9OweunOdShrayX2e6iToRVY3gDfDVeHVViRNTgrRK9X6up1dcr3umHFdcV9q94zxxw/AeOen0p+7diBtJejrTSsyo3s5Ww1mvI6doELYFTac8nvClthwx0Uk6pee78YVlyThuU1VY1rfebPgFEH/pV8oPXBFsvrnqZh1f0OLaN8UUmrm+zLzO9hVNLjyW9R3YB8VOxq5W7ZpO9n+82w4oZ5T1vrxSyWXQ+tE1fBF8JA1QBiWZ3Tank7dgnj5tb5QgapbN4PaQWMH8O+gfxN8Ey4OfwMdNzqLdBB9djHylz9Up3ZRB8pEA8q73Hc8wvIbwrnQB9ev4KfhtYFxzI1AbftS4TD7czVnVS5wlheWZTZLisQFbB6WH9nthBaUR+DH4G+7g4Y+vdtZYyLHEcamtT5O6xxXFbbXarDBRuyxQJoffEBtw0MuJ0mVmdUfSYjrJreKRuXlcmnphT7QMP8U6C/+v8Q9E+7fBL6QaGfM7jf32DsQzYxgAr8F9esEVknfLi9DL4TPgteAY+Awu00hDBzl/Ukev4CelL1ZiUzQtJwrExiNjSk/y5cD1rZ1oSfhX+Gvrq20j0B06gQIdFQwIjKOuHnLrbnY+HG8BfQh9yFcB1oPbPeWO96FmlYU3/romIZIQl/pX8O/Bl00NRKZgX7FHwc+kWzUZh/WthxiUQq0E6Bv5aF1peb4HbwY/Cl8Fa4OxTWO+tgTyINa+pum9GRobsVS+Mxevoa9M2flek4aGR1JHwYWvF8Gv4FRhRGNpEKdFTACMr6Yt0RH4ez4CPQh+I8KKyD1sWehg1K7AxPauSak1heWZTZMSpgdy7gQ8Kvln3SGc6fDY2yAm7b85UpLmYa0ngID8Kg+7Lk9WEX9Wh18j+G1jf/UuxKULjeMbA6oOoz36BAryyFqr5Y6P1BuDoovYwyKLYGZHdO+DC4Bn4R3gh3g96YP8Dqto5JJFKBiSjgA9FIannoj+BfAY8q6dWkfgZhPbPeVc2C2foinkb1LWHvlsyw3K6cZrUuPBX+FG4CjbC2hD71hNsazoexuSyRCkxUASOqeGHjsT4KXwOtj35o6lCExiYikqlLxNUsVcs0DatFkC7M+rQyqnIsQbwL3gb3hydAK8uXoeNYhuRWFLfVsBKpwGQo4IPQgXbN6Dvw+XAxdFzrndC66MPVbqQmV1vTSsPi7nQRGpU33wqyFfwF/Cq8Bc6GB8G7oaZm5TAkt6IkUoHJVsDuoe3dB+SVcGNo19AXP5+AwmjLh2htTSsNy9s0cahjdazK0NtK8RL4MWg3cAEUGpXRVITiLkukAlOhgA9TaR28D24Nz4UfgcdB4UM0TKuxoE6T6LfWqUy9VhZvvuZjVPU8OB8aXV0BD4J/hMKoSqRRNXXI6fQoYPRkHbTtm+4KHap4K1wZ7gfDtExrhTSsid0OxwUMtcUceHQjN2OGf+7jCyXveIARmE+2RCpQFwUcirD9mx4IH4a+DPJzkD1gLU0rDYs7Mw5oQD6pNKsN4Gnwn+Bv4OvhDVAYVdn9S7NSjUTdFKia1uEU7jH4EXgu9DMITav6UGZ2epFjWGPT32gpTEjDOgDeAjUrx622gZqVDwK31ajcLpEK1FUBTSuGK44kPxfuAv3AVPhQ1rRqgYywRn8bIqrShBxg/ybcH94G7fdfDoWaWgkSqUCvKGCdjno7rxR6LulZcE+oacVYLdnpQ0ZYo9Pem2nXzmjJNysLoWalaW0CNSvfrBhVpVkhQqLnFLDeRgCjaR0N/RXGqVDEQH1zbpqmUcBpOn3tT6sBqZE3S/iRnd+tiDfBkxu54Z80lEWZpAI9p4CmFZGUY1krwMPgQ/BQ6Hq7j0Zk04I0rM6ye2M0LM3K6Olb0KjqD/C18HrozRV+0pBIBfpBAeu7Y1Z2A31ruAr01xr3wE9AzcqemT2OKUcaVnvJNSJvjLTL90O4ETwOGmV5s5aH/qQmB9URIdFXCmhW8SH0AeTXhEfBO6EP7mkzrBzDQv0WGE35lNGUHHA0ktKsDoFvhy73x8r+qDTNChESfamAvQbrudgL+gH0N+FsaNfQKGzKkYY1XHJv0BNl0RzSH0B/wvAi6M2yi+iNMrJKpAL9roD1PHoSLyf/OPwZ9AE+LZ87pGGhfIFm5Q1y7OpkeDS8AD4b+jMbjUq9vFGJVGBQFLAnoWndAXcqF30uqV1G28KTyrIpSdKwmlGT4mtWa8DL4Bugf2XhZdA3JNFNdEwrkQoMmgKalm3EtnEQ3BCeDoVDJPY8pgSDblhevwPs9tefC6+Bfq3+7kKShlnZTczxKtVIDKoCtgGjqRPgl6DjWkdADcsH+pRgkA3Lrp/Xb1hr//z3cDW4OzS6EpqZNyqRCgy6Aj6w46Ht7w4vh5+EO8PqAD2zk4dBNSzNyieDbzsOhj+Bj8Ct4I+g66VvCxOpQCrQVMAhkRizMsKy/fgXTFeHDqlMeqQ1iIblNSu8T4s50Ld/N0AH1/0o1KjKdTlehQiJVKBFAU1K07oX+tnPitBuorC34oN+0jBohuX1GlmJL0DfBF4Knw/vhr4JjG+wyCZSgVSgjQI+zB1o/zG0He0G3wN90PvAnzQMkmFFN1AxfSK8F/4Abg99C6JZ+YRIpAKpwLIV0Jg0LOEfq7wOfhE+B07qeNagGJYhbHTxvkf+ADgf7g2FT4U0q4YUOUkFRqWAPZXo/r227OHwinA8a1IirUEwLIWz3y3OhZrUV+DBUGhmObjekCInqcCYFNC0jLSugh+GL4IfgIGIwmJ+wmm/G1aMSSncArgL/DQ8DArNKsyssSAnqUAqMGoF7BpGlPUZ8r+Dn4W+wDII6Ppbw342LMWym+c1alaz4Dzom0ENTKHTrBAhkQpMQAHbUHT/DinH+XJJHc8yKOga+tWw/BmBH3xqTOfDHeC/wbnQZV53jGmRTaQCqcAEFIi3hkZY9mB2gm+sHM821xX0o2FpVjq7+Al8GdSsPgHTrBAhkQp0WQHHsiLKsp3dBR0nXhkagT0JdgX9ZlhVs/KTBces5kJFFBlZNXXIaSrQbQUcfnEYxj9B4zdZmtVHoHA8qyte05WDNIo0/RPFisjqVPJ7wqPhPCh0+ewGNqTISSowKQpE+/LnOufB98PNy5m64jVdOUgp0HQmhqOOWYlj4f7wSzAcvvppA4sTqUAqMAkK2P17Sjnuh0tq0CBcN2G/mfABGkWZ3omRkyGnUJy3w/nwcCieDGN9Y0FOUoFUYNIUMHCwTf4WHg/3grNgV9DrhmX5HfAT/tRmDjwLHgyFZpVfsDekyEkqMCUK2B41LHFUM5nxqZK6bkKeM6GdSyGmK/GNn1QEu4D+CPOX8FVQOKaVZtWQIiepwJQq4Fiy7W8R9EPSf4L+U9YJo5cNy7I7yDcLngoXwl2hBqZYhqaJVCAVmF4FPsfpbacRbdk+DTTGhV41LL9SV4RNoF+x+9cWdoSLoZ82pFkhQiIVmEYFbIMOwD8A/dnOVjCirIEyrDCrlRDgUihmw1uhAsWnDWQTqUAqMI0KxGcOx1AGf3c4t5TFKGtc6LUIy/KGCD8l759m9U9bXA6NrPyzFolUIBWohwKOIdsujbIcY94aGlwIA48xo5cMyzBSlxbzoX/K4gh4JnTMKiMrREikAjVTIAIMv4sUttlxo5cMy1elGtb74IHwJPgpqFPnd1aIkEgFaqiAbdOA4nZ4ItwRPhdqZPH5A9nRoVcMy7DSC98Zfh7+Bh4ARXza0JzLaSqQCtRNgRiz+mIp2HtKOmb/GfMO06CEZmV3bz3oH733x5V7QOGHoX7yn0gFUoH6KmCwYTT1O3gRfDN0/NkxLntIo0bdDUtDirEpv2D34l4B74GGmV5wIhVIBeqvQHzK8OVS1DeVdLmxFL3OhqU5RSh5HPnnwcPgxVAjy2+tECGRCvSIAtETMvC4H76zlNuAJMysLOqc1NmworvnAPtb4WnQPwrmxeUgOyIkUoEeUsAXZnYLbbv/ATeCL4XCtu76EVFXw/IDUL+p8v+czYe3woOgsMyjurjG1jlJBVKBuigQPaaTSoEOqRRsVFFWHQ3LsSnNyr7t6eWC9iR1vEqHju86yqpMUoFUoEcUCMO6jvJeCl8HV4QO74xqLKtuhvX3FDwG0r9Afgv4Nuj/PXNdmhUiJFKBHlYgPOcErsGu4G7lWnrWsOzu7Q0PhX7F/nUYyK5gKJFpKtCbCkQbPrsUP94WjmpcOtyuDpeu2xpdrQUdYH8IOtguXJfRVUOKnKQCfaGAnyb5XaUR1mrQt4Uj+tGIG3CQqYBjU9EVNKLyY9H94J9gGBnZRCqQCvS4AkZYMcD+7XItLy+pwz7LRB0My8LHYNxbyPsVuz+/OR+6LiMrREikAn2kQBjWeeWa9i1pdAuj27jUJdfBsHRVDWsD6PcZN8I5UDgQl4bVkCInqUDfKXAnV3Qx3AX6tnBETLdhaVbxBew3SmkPJNVp/RYruollVSapQCrQBwpUIyi/fH8q3K5cl55QXV8WN5PpNCzDwijYv5CfDT8FfwmNrByES6QCqUD/KWC7D+/5Wbm8XUtqjyrWlUVLko4rlmwyaTkNy67gOtCBdruCH4WiambNJTlNBVKBflLANi6ugbfDnZ0p8CVcBDOxrJFOl2GFWVmIY0uJjLLsHi4PsytYRMkkFehTBcKQbOs/h8+G65ZrtVvYFtNlWFGgV1Mq/5OGpnUh/Afof8BJpAKpQH8rUO0WLiiX+uKSRvS1lALTYVgWJiKp48n7geiHSsnCdctsJqlAKtCnClQN64pyjTuU1Jdubb3JvuJUw3NaoKPhytAfQD4K7QpmdIUIiVRgwBRw/NpxrO3Kdf+FNHphZVEzaetiw7bo7oxv/zQr/xiff9f5PHgG1MQsZCIVSAUGR4HoUekJv4abw1WhgUstDMu3guJrzWTGu0uqcUbhy6JMUoFUoM8V0A8iaLqMvD/J8y+0dPxrwrEx20w6LIzfWLwBbgs/A6+HDrTnW0FESKQCA6ZAdRzrt+XatybVyPSKpTBVhmV454egmtMXoT9qnguF4WAiFUgFBlOBeCN4I5evR2hY+kRbX5iqQXf/4oJjVEdA/73PgdDCxZgW2UQqkAoMsAJ3cu03wy2h3tC2WzgVEZZuqVn5UdhH4ZXwRCjaumhzVU5TgVRgABSIcW0/dboWPhOuAcOwho1tT4VhxQk/TiHE4c2k/VuAsi6TVCAVGAwF9IfoFvoznZXgTBjBTKxj0ZIR+sbMJEziLy5sxbEPhufAC8t5wlnLbCapQCowgAroA/EJgxGW2BBO+aC70VuEdRFdzbE0wHUReTUW5CQVSAUGVgH9QCxqJjOeRhoBzZRFWH7G4Em3h3vC+fBqKNKsmjrkNBVIBZYocA/Zh8tsW48IZ1uyS3dyvn2Mn9nMLYf8REkzuipCZJIKpALDFHiAufvLkik1LD9XEDsWfpXUV5aJVCAVSAVaFQhz8jfF97WurM5PRoRldOVnDOLIZjLj30vquuiblkWZpAKpwIArUPWEe4sWw8auQp/JMKwY8Te6mgW/BG+Dolqw5pKcpgKpwKArYIQVBhVdwpgfpk23DcsIKt4MxhtBDUvYTUzDakiRk1QgFagooGGFFzmOJWJYqTlXprHRsIUTmInj+WbQCOtYeEs5XtvvKsq6TFKBVGBwFagaVkRYftogXDeEMJihBRPI2BWMv7rw/nKcL5fUn+dkdFXEyCQVSAWWUiC8KCKslcsWk2ZYccLncaK94CnwunJSfyeUSAVSgVRgJAUeKRuEYTk7NJ4VJjPSQUZab3QVv/2JP8oXY1fxd7BGOkauTwVSgcFVIEzJTxtE/CfoSYmw4mTrc6I3w/Nh/GH5jK4QI5EKpAKjUuDxstUKJdWwwl+GRuZHdaQOGxmlhSkdUrY5pqT++DnWlUWZpAKpQCrQUQH/Fpbwn9KIYRGWnyFMFOF+nuBQeD38UTlomlURIpNpUyDqZ2s6kQLFsTodY1gj67RRLh9SoBpFxdCSQ0lLYaKG5Y2Lt3/+U1T/48W/lbMYXcUX72VRJqnAlCpgQ4guRtTFbphJN44xpUL0wMni/iwuZfWvFC+FbhrWYRzdcM63gyKMrDmX01RgahWw/vnx4TZQ01obWj9Hio7YpLGNQx1+O+gT3/3Mx75PJb8eXAv6kI6XV38ifzO8DUbvwobnw9sXUxqd5YrjkG3APxTgpz8uH1QzVKcH4cawIyZqWHHgF5GxYnwN+lpS8eOLd7KJVGDKFdAw/PjQ/yOwX8lXTYdFw6BRaDzxxlsT0ag0JP8Apel4sJCd/gA1z/gYMsrhOT3fFtChFL9jtAxhWlUDC5NzXTXPbAOxzJl228SxIm3u1Zx2e98ov0eP80Xaet7Y1uv2+qMruLi6YeQnYlgWIKKot5YDfr2k8cSJ82SaCky1AlZ8/7aSL4I0g7FCc3kjfBsMs7qN/LXwKngdvAfeCP2E51x4KXwJ9OFtarQwE/4n/DiMV/Zkh2Bb+RncG8Y3SEMrByijcWvkanYDdH6ZiA12ZquTKlvG8sqiRlbDEt5Mw+ZLnAHegDSshhQ5mQYFou5pOOfALUsZ4sndrkjV8ZJV2OAo6NPep7+m9EW4I4xvg8gOw+nMub4Kz+cH1JqRx7Fbug8MLFcydhfdJkwx2lVsNyipvTJhtKlen3amIO5p41/Ex8KxpgrrgfeFRmr/BwpvlOF0IhWYTgWsmyIqu/U16HLXu07jsOsn3gy/An3j/Tv4Wfg9+AQMWNfDbEwXQxubRic0NY8nf1D4StJvwO/Co+FHoA95z2+ZDAqkMI2eS2PBAEy8F3H9jg+KeFkSPtNYOJEuYYhqd9CDe2OFT6ZEKjDdCljRRdRTUxtG1cg0DI1lTXg83B3eAQ+E34EBDcltHRcLuk7TEXZlot7bFpzXzIzcfHifDTeERmJHQE3t3TDKZpkibxp5sgMDNRPx/VV0n4cZljdhPIj9tmLnF8CToDfK6MobmkgF6qJAGFeklsunuXVYw9keXg81q8/BjWGYlY1H4zHC8rW724fhkR0a/K7mo224rW3CeaOGx+Ae8BR4KPwYFNVyNZcM9jR+Q/hwkWGYPuONsLwJPgXeVA46v6TVm1kWZZIK1EoBzcpG4IP1tfAMaF3eFZ4LhQ9en/jjGdpobQMeR+PStEzfCNeAc+Fl0HNGd4jswCJ0W70o8GBJvVexruH+Y1UobrYia1g3wMuhyyMsJptIBWqlgJXeOmq91awOgJrV7XAjqHG43u6f3cTo7pHtCjSr6O5olEZcJ8PVoOfz3IMKrz26wWsVEfymTQzTJcLX5qrRTeNpMJvNnwHnl9280UNOWJZlkgrURQErvt07H6q+rTsB3gSfB2+BjjfZHp6AkwUjNiMtuzuO/RpNzIF+zhDtiuzAwXtjJCrCsDTxpTAewwrHM7oS324mOXZVdMikngr4QNWsXgh9W3cvfAl8CGpWRlTRaMhOGhwLs92dBq+E/wqfBV0+qFCPCHbWLiLE/DBNxmpYbu+NNbTdF/4K3gx9OhhmJ1KBuikQXQ2jmJXg90sBdyB9AIZZtW0gZdtuJpbHc4pjmknjLWW3u6Dl0D2RRBBkBLxuKXHb+zFWw/KAYif4FHiSM2CQw9mmAjmtowJW+qizlu/L0Ce4D9vr4ZOgRtG2cbB8shDmdBYnsJto+wljnaxz1vm4YVgOMa2zrIKO1bDixu5fDqrgIqOrpg45rY8C1lUbQjSGV5M/AM6HdgkDUadjfqJpnG9Zx7HrqZE6sOwLq5Wh5jnoWA8BfIMq2npT24XN7Zea+hRwDMDIai/oK9lF0GMM8tOBy0/UVAFNYXEp25dIHSf6QJl3TGsyH7RVsyynHJaEsf2SpXYRZ5a1g9ZbUYfwj82KBn7SEDoMe6CMxbAitN6Bg2laZ5SDj+UYZZdMUoFJV8B6aSRjl2sfaFfjQ9BxK+uyD99uwUbnZwoiuns2tGGNrbF2ySTO78C7WL+ZDEWEZbbvE7WLB4cvRMQfYUScwzSMhY2tRjmx/y9+2EyG3LHMZpIK1EIBDetx6M9u5kAH3f8DCtcNawiNpeOfaIwOkzgGY/fOeQ1JGsm1O5cRhNHfdlCs0kwGzrC8FxFhvYj8jXAh9OPdpTAaw1JsxY3vIl5J/mrogUWcrDmX01SgHgpYb42udoPbwHnQOmz36wnYTdgGNoce1zfodj23hZrQD2CYGNkh2FDdbqOyxEhjEBHXPZOLfy48E94P7cWJWN+YGY1huaEhtE8NHdCnyNehqLpjc0lOU4F6KGB041P6EOiHmqdCYZ3tNmwf74WXVw78RvKOyRxZWdYu63jwjvC+srJdNNZuv35ZFtfrb5J9mFwAn1nyJMMx2psXLrd72f3Hww+Tc6lA7RTQsNaCG8Cfwhug+Fsz6frUSMl2sjq0Xa0PV4XCv85gxKCBmtpNdJlwfE1E+Qapx6JOMX61U0OFGTMuJvUB0NabRhNhVbuD/trcQcvfQhHu2JzLaSpQHwXsEfgzGHFeM2kYRgxtlEVdS27nSLYH24e4E67TyDW7fq1GafdRg5sNfSt2LxSDZlher+a0C7wOXg+9b211GI1h6XaKrfhbw9PgZN10Dp1IBbqmgHVXXNZMuj6Nnofm81JoO1kJPgq3h49BEduZamorQNe9Hq4L74GxDdmBQQQ8jl09Cx5TrlzDisirLGomozGsCM28ISK6gyF+c2lOU4H6KaBhaQY+tYVRV7dgu/grdNzFsV0NapMy73Jf0Z8FRZiRDdTGqFnZNfw81OwWQbuLgxQIqEncD1+MCF9QCO/buCOscLqXNw7V/EP7ZtOwiiCZ1FIBjeHp8GpoHa42EGYnjIgObFiOVd0FD4CrQ7uFH4L2SoTbOLTiG0SjL3E6XAMeCF8FHdcaJGj4YVj7kbdbfHERIJaX2SVJRE9LlgzPuT5c/2Xkr4ELh2+Sc6lALRXQrFaDUV81C+uzvYpuUAMyStIML4TPgZvDGMN6nHx0ST23jVCz0kjPhnvCz8ET4SqwYyNlXT8iDN9hJruEZ0KNXdi19gGzFEYyrOgybsae68MFlSPECSuLMpsK1EYBox5xczNpfESquXSTfynHttspfgI3buSaBqRpiUegDfB10IhvD/hx+EEYGKT2pBZhTo7jiVOaybJ/CB6GVLbtmGxX1lxQ0rbu13HvXJEKTL0CRjIi6qoP3DCYxoouTIyg7odGcz+Gr4BXwaPh2tBvFl3mt1azYZjZ4eSPgw7Qa6wjBQ5s0lfwnmjQRp4Hw2vgJVAYacY9ayyoTkYyLEMzMasxnTHjNyVV4EELYculZ1JzBSJSCRN4G+XdGzqoHU/1bl6C7UDDehgugo5hzYMBx6fEn6GRlga3LzwI2v4ctJcOvg8K4h7ZLdawP1Yu3AdAx+6g23QyrDhgpNuy7bXwVphIBeqsQDy9w7COpbCfghtAI6yOT2/WjRd2Mz2fbwc1MCOpLaDjXI5pXQej22ij1KDc3sZpJHgidNkgIO6P1/o+qHanOANGDII6GVZz9+ZU8TeE36gsDCOrLMpsKlArBSJi0aSsr4vgiA2iS1dgTyR6IyMdMozLdBAQhrU9F/tC+BVodKpxPw6XidEY1vPLEX5RUoVNw1qmrLmyBgo8VspgF00YwUxWhNU4QWVio6xGcraXdm3GZXZVoxGT7XuEDnPKlX6ppLF8mQJ0Mqyq27+kHOG3JXWdYVwiFaizAotL4Rz4FjF+NaqG0dxl3NPRnCMMbTTbjrsgNdvRLrJR7tZwN2hX8GbowyQiYrKdUTWm6lYeOPAiMvbDPXAiFegVBexm+N3TuqXAPmQ71feySSZTpMBR5TyfrJxvVMbd6QbGcj+M2xL+AXrzxagO3Nw0p6nAtClgfb0Pziwl8Mke9bosymQKFViOc3kPHLsyupoPr4V+4e/Liog4yXZGuxuoIcXOG5F/GqwOIKZhddYz19RHAbuAdjPWgSuWYrWr72VVJpOogH6iWYkvNJOhTxlieVm87KTdDfTgYUpGVyLGr+wqxlhAY0VOUoEaK2Bj0Kw2LGWsDnXUuNh9V7T4Bu5NXJlvBu0KLoKOXY1pPLydYbksDvI88uKPzSRD6qJDJr2hQHz47DdRielRwK6gb2dXgH7C4Hh4jGHF/WHR6NDJsOxTiq2gb1tucyaRCvSQAtbtaBAvKOV2PoY7euhSerqoEdV+lqtYCb4d2lXXyKInR3Z06GRY8YpxMw5zI/QnBWLMJ2jultNUYMoVsKE8WM7qLzWi+9HpU54pL+AAnHB5rtG/9jILvgOeDb8LfWjEw4Ts6NHOsDyYEdaacD14DQzk+FUokWndFdCgHoIXQoc27C2INKymDpM99e2fv590/Go+FG9rJuOPctsZllGUY1gbQs0rDMsnVkZYiJDoCQU0JuvrOVDz8lW6GNNbqeYuOR2jAvpK6OyX7DOhA+53Q31k3IFPO8PyYHITKK5vJo0TpWEVMTKpvQLWbZ/yl0J/fPw6KOw9OH6SmDwF1N2gZz/4Vng6PBmKcZuVO1cNK8xIZ3T5pm4AFjaT8YdxZf9MUoGpVMCG4YfPt8NvQ8dj/UmI8CmfmBwF1Ny3ggY8GtW98F+gmHAvrWpYzUM2ndF+pyf8E7yrrAhDK7OZpAK1VsAHr0966+2JpaQHl9SXSu3qflmdyTgVUG/NyvT75Rh7kPpDdLvo0U0sq8aetLtpjt77zcQz4R0w3rSkYSFGoqcUsM5al2+GV0K7J0+HLs9uISJ0EeoZXxecRP7Z8BD4a6jPTKgryP4NdDKsVVm7Dry1sVVz0pUTVo6X2VRgshVwHMW/syT8SciToY1I+GD2pVJi4goYPcVnCkeTfw08Bn4TCnXuin+0MyzDNv8kx2pwIRRulxFWQ4qc9IgCNhLrbJjSd8j7AukI6AeMNiAbWmJiCjguFb+MeRf5OfAs+D4ojLwm3BVsHIlJ1bDixnrwtaEFuQUK82lYDSly0kMKWKfjye/Yylz4NHg4FDa0ahtoLMzJqBXQFyJy2p/8V+EV8LVQOJYV+jcWTHTS7mZZgDXKgW8vaUZYE1U6958uBeJBax32rZUNai5cH7quXRtgcWIEBcKs1PBV8FR4I9wVOpblizvTrqLdzbIAhsqm95SzRfRVZjNJBXpGgai7/tUG8f5m0hhjMZtRVhFkDIn+YGATZvWf5A1uZkF/XeCnDf4kp+voZFie6FH4QNfPmAdMBaZHAT8Ytb5fBI+D+8BXQ9GuHTTX5LRVAcekNHnN6g0wzGpb8ndBfz9o93tS0O5GWRDhD54fbuSahSvZTFKBnlTARmZkID4I/aDxNOjwR3Uds4kOCtjNizGpw8ifDO0GvhjeATUrfz84aWhnWHEyzWpxmQkTi3WZpgK9poB13SjLRmW9fiM0WjgdCk1rWe2hsdEAT9QtunmfJe9vBH8FNau7od3ASTUrjt/2BkWfX8OKAsabAPdJpAK9rIDdFd9enQ/nwVnQBijSsJo6VKdqollpRqbfgx8o6fak+oSRl7pOOtrdoDAsf5YTyAgrlMi01xWwLsd3QXPJ/xDaAA+BRlmaWaKpgB/a+jZQs3oO/D3cG2rwjgHaPVSvCGzITi6WZVg6p3CbNKyGFDnpEwU0JhujcODdcZjj4Suhr+Lt3gw6jKbsQmtKB8Kr4UbwTfBDUKhh1z9daBy5w6SdYemoIiKsNKymHjntLwVsjNHgXkre+n4W3AXavRlU0/LFhLoYVfk7zBPhfOhnC1tBB9qF26nhlKKdYTkQKdKwmjrktH8VsMFZ3/3e8AXQrs25cA+oadlw27URFvcdHAqye2f0qS67wpuhEdV8uDH8A1QPgxq3m3K0uxmGgiIMK8a0mktzmgr0lwJ2eYwWFsItoN8fng0PgjZch0Nc38/w+rxOu3erwhPhj+HK0B8yHwxdp1G5XYwBkp1aVA3Lggh/ayX8DkukYTV1yGn/KmC0YGM0otgU3ga/BY+CtgvXR8+DbF/Adh3tP6Kld7DMaNOo6gy4NvwOjG01qvAJslOPKHDVlMKwFpfiVNdNfQnzjKnA1ChgYzTSuBs+Gy6AR8KINIzEbC+yV9tEGI/XoPHE50qvIH8t/N/Q698Nvg4+CCP6im1ZNH0Iw7IE4ZxPLcV5fPqKlWdOBaZFASMNG6jjV7Phv0PHchaV1EYrbfhGZL1iXLZzyyviGszPgpfAH8FN4IfhBlCTVgf3i+iL7PTDArUiDMu3BIlUYNAUCNPyuv0+a09oO7ERfwuuBm30RmQaVjRssrWCZbZsGlWUN4ISXyr8Ai6A20G/Wl8Tfga6jS8b1MH9aoWqYcXFPKWU0DcmiVRgEBWwsdrQbbgOwG8Az4AHwbvgoVAzsEG7bTRyl00XNE/L7FhbtWwaq3gGfBe8AXpNL4H+/aqZ8HB4P/xHqCf4sqGWCMPyYgMWWtS20M3i5TQVmFQFbOi2AR/gD0DHdPywdBH8ClwI3wxtLxqW22peGoafB2ga1XbFbFcRBqWpej7NyjI71mY5hGXbCZ4A74AalG8B58G14Luh1+N2ltsgpQ5RVQRPFKc9wrhc62f37rCZM8CLSaQCvaJAmMQKFNhIYstScBv1eKEpaAjCtmKkch+0nThIfQTcALbCfTyv1BCcj/KRbcD2tQCu1pwdtt5tPZ/7hRG6vceL8pAdBq97NrSbtwhaRnkBfD1034B5r60O8DoDx5Px4SA0/iEMmylLFUbEAbyg6K83VuQkFaixAtZbI4UwmajPzhs9tBoGi0aE+9lWNAM/9/kaPBUeDN8HP1l4Hunp8OfwVmi7kVV4HM3GcrrOCM68RmTqvMs1Gc8r2x2HxQ2syHRTaBdvJ/gyaDnFzfBoeCa8EgZWIuPx1clUbaYbauK3Xl6vecu1FNoZVgj1YNk6Pm9YaudckArUWIGHKJtvuuMD6EcnWFa7WTaogL+1/ULhLNK3QAfod4ae8xJ4IfwNvAHeCYXHiS6b83YlNY5Yv6y383bn1oHPhJrU8+HWcCNoI4/z/pC8Lwk0rHbQdOuMjveqnWGtwpXo9PZx74VrQgX9O5hIBeqsgA9b666fJawOHWi2gS+E3arH8eS3OyVs/BfAi+Dm8OVwL7hHIUnj728tIr0N3gJvh3YpNT2PZ1lfAw0OjH6eCm2HLl8beg22xzWgy6rwmN+Gnv8KeBO0TBrYytBoy/zfYBhl3dqyGuhF+oz5daFlXgpRcFM3FAfBz0GfEH7a4I0xJI1tySZSgVorYLdiObgZvBUaeXS7HttebBOeR5O0rRgZGDHZvZsJN4Qahue2QbrtWLtfnsfj2ga9Lo8vjfbuhndAjc51nmd5aLfS87mPJuW6urdfy6epeg2a9GFQA/Y6wmiHXYQ7xE3waaQ7eyNclkgFekmBqMtGWjYAn9aTVY+jzdiwPI8moZl4bo3FebeRbmPkZORn925FqLnYIKNhup/dQqMk+RDUkDyO8Npsl9J9vD6pGbpOc3JbU+GyXoEaeV2PQXt3cc1k26OXLq79FeTSVCAV6BcFlvKjpRZwpeHe/XLReR2pQN0UiIjLcpmvItpka1rdZhDyEZkOu9YQZdjCnEkFUoEpUaBT+2s1sSkpTJ4kFUgFUoFUoIsK/H94L5zRv5822gAAAABJRU5ErkJggg==)"
      ],
      "metadata": {
        "id": "o9_RTd4JHCVo"
      }
    },
    {
      "cell_type": "markdown",
      "source": [
        "フィボナッチ数列の `n` 番目の数を得るための関数を作成してみます。"
      ],
      "metadata": {
        "id": "XS3yX9hNHGqA"
      }
    },
    {
      "cell_type": "code",
      "execution_count": null,
      "metadata": {
        "id": "9WCxwzpW_sSC",
        "outputId": "b43a39d9-2174-404a-9c7f-55523624c03b",
        "colab": {
          "base_uri": "https://localhost:8080/"
        }
      },
      "outputs": [
        {
          "output_type": "stream",
          "name": "stdout",
          "text": [
            "0\n",
            "1\n",
            "1\n",
            "2\n",
            "3\n",
            "5\n",
            "8\n",
            "13\n",
            "21\n",
            "34\n",
            "55\n",
            "89\n",
            "144\n",
            "233\n",
            "377\n"
          ]
        }
      ],
      "source": [
        "def fibonacci(n):\n",
        "    if n == 0:\n",
        "        return 0\n",
        "    elif n == 1:\n",
        "        return 1\n",
        "    else:\n",
        "        return fibonacci(n - 2) + fibonacci(n - 1)\n",
        "\n",
        "i = 0\n",
        "while(i <= 14):\n",
        "    print(fibonacci(i))\n",
        "    i += 1"
      ]
    },
    {
      "cell_type": "markdown",
      "metadata": {
        "id": "cxWthoIP_sSC"
      },
      "source": [
        "## 4. オブジェクト指向プログラミング\n",
        "\n",
        "ここまでの説明の中で、「型」と「オブジェクト」という用語が何度かでてきました。何らかの型をもった要素のことであり。文字列、数値、リスト、辞書といった型に属する要素はすべてオブジェクトです。"
      ]
    },
    {
      "cell_type": "markdown",
      "source": [
        "### 4.1. クラスとインスタンス\n",
        "\n",
        "Pythonなどのオブジェクト指向プログラミング言語（Object-Oriented Programming Language）では、ユーザー（プログラマー）自身がこのような「型」に類するものとして「クラス」を作成することができます。\n",
        "\n",
        "クラス定義に基づいて生成されたオブジェクトは「インスタンス」と呼ばれます。例えば `Student` というクラスを定義すれば、固有の学籍番号を持った学生のインスタンス（`s1`, `s2`, `s3`, ...）をいくらでも生み出すことができます。"
      ],
      "metadata": {
        "id": "2fSOwousKPFM"
      }
    },
    {
      "cell_type": "markdown",
      "source": [
        "クラスにはデータ変数とメソッドを定義することができます。`Student`クラスの例でいうなら、氏名や学籍番号は「データ変数」です。また、もしこれらのデータを用いて「学生情報を表示する」機能が必要であれば、そのような機能は「メソッド」として実装します。大元となるクラスにメソッドを定義しておけば、すべてのインスタンスでそれを利用することができます。"
      ],
      "metadata": {
        "id": "UY53QonqMCex"
      }
    },
    {
      "cell_type": "markdown",
      "source": [
        "### 4.2. クラスとインスタンスの実例\n",
        "\n",
        "それでは、実際に `Student` クラスを作成してみましょう。\n",
        "\n",
        "`Student`クラスには`name`（氏名）、`sid`（学籍番号）、`pw`（パスワード）というデータを含めることにします。\n",
        "\n",
        "また、これらのデータを整形した文字列を返すための機能を `get_info`メソッドとして実装します。\n",
        "\n",
        "具体的な実装の方法と、作成したクラスからインスタンスを生成して実際に使う方法については、下のコードをみてください。"
      ],
      "metadata": {
        "id": "ZfVQwA5DMMU3"
      }
    },
    {
      "cell_type": "code",
      "execution_count": null,
      "metadata": {
        "colab": {
          "base_uri": "https://localhost:8080/"
        },
        "id": "lLvxRESI_sSC",
        "outputId": "5776da85-17b8-4896-a2c2-3ee3d2e5544a",
        "collapsed": true
      },
      "outputs": [
        {
          "output_type": "stream",
          "name": "stdout",
          "text": [
            "------------------------------------------ \n",
            "Name:       Hanako Kyotanabe\n",
            "ID:            abcd1234\n",
            "Password: bad_password\n",
            "------------------------------------------\n",
            "------------------------------------------ \n",
            "Name:       Taro Imadegawa\n",
            "ID:            efgh5678\n",
            "Password: another_bad_password\n",
            "------------------------------------------\n"
          ]
        }
      ],
      "source": [
        "class Student:\n",
        "    def __init__(self, name, sid, pw):\n",
        "        self.name = name\n",
        "        self.sid = sid\n",
        "        self.pw = pw\n",
        "\n",
        "    def get_info(self):\n",
        "        sdata = \"------------------------------------------ \\n\" \\\n",
        "                 + \"Name:       \" + self.name      + \"\\n\" \\\n",
        "                 + \"ID:            \" + self.sid          + \"\\n\" \\\n",
        "                 + \"Password: \" + self.pw          + \"\\n\" \\\n",
        "                 + \"------------------------------------------\"\n",
        "        return sdata\n",
        "\n",
        "# Studentクラスのインスタンス（s1, s2）を作成する\n",
        "\n",
        "s1 = Student(\"Hanako Kyotanabe\", \"abcd1234\", \"bad_password\")\n",
        "s2 = Student(\"Taro Imadegawa\", \"efgh5678\", \"another_bad_password\")\n",
        "\n",
        "# s1とs2のget_infoメソッドを呼び出す\n",
        "\n",
        "print(s1.get_info())\n",
        "print(s2.get_info())"
      ]
    },
    {
      "cell_type": "markdown",
      "source": [
        "> ✏️ **解説**\n",
        "> \n",
        "- クラスを定義するには`class`キーワードを用います（行の最後にコロン`:`が必要です）。\n",
        "- メソッドを定義するには `def`キーワードを用います（やはりコロン`:`が必要です）。\n",
        "- メソッドの第1引数には `self` を与えます（メソッドを呼び出す際に`self`を指定する必要はありません）。\n",
        "- クラスからインスタンスを作成する際に必ず呼び出されるメソッドを「コンストラクタ」と言い、`__init__`という名前で定義します。\n",
        "- クラスの「データ変数」は通常、コンストラクタ内で定義します。\n",
        "- クラス定義の中でデータ変数を参照する際には `self.変数名`のようにします。\n",
        "- クラス定義の中でメソッドを参照する際には`self.メソッド名`のようにします。\n",
        "- Pythonコードの途中で改行が必要なときには行末で `\\` を記します。"
      ],
      "metadata": {
        "id": "FCVqVKB9OZAe"
      }
    },
    {
      "cell_type": "markdown",
      "source": [
        "### ⚡️ 練習問題 2\n",
        "\n",
        "上記のコードではパスワードを「平文」で保存してしまっており、これはセキュリティ的に重大な問題です❗️\n",
        "\n",
        "そこで、`Student`クラスのインスタンスを作成する際に、ダイジェストされたパスワードが保存されるようにしましょう。\n",
        "\n",
        "ここでは「Pythonプログラミング入門  Part 1」で紹介したのMD5アルゴリズムを用いたハッシュ関数を利用することにします。`digest`メソッドを作成して、コンストラクタ内でパスワードを`pw`変数に代入する前に適用してください。\n",
        "\n",
        "`display`メソッドを使用したときの出力が次のようになればOKです。\n",
        "\n",
        "```\n",
        "------------------------------------------ \n",
        "Name:       Hanako Kyotanabe\n",
        "ID:            abcd1234\n",
        "Password: 22764da5553c20cc80cc579db5bd2257\n",
        "------------------------------------------\n",
        "------------------------------------------ \n",
        "Name:       Taro Imadegawa\n",
        "ID:            efgh5678\n",
        "Password: d613ecfdde4f6a20ca6cf7058a3e61e7\n",
        "------------------------------------------\n",
        "```\n"
      ],
      "metadata": {
        "id": "JNCygAVuP8qK"
      }
    },
    {
      "cell_type": "markdown",
      "source": [
        "### ⚡️ 練習問題 3\n",
        "\n",
        "`Student`クラスにもう1つメソッドを追加しましょう。`check_password`というメソッドを作成し、文字列を与えると、それが正しいパスワードかどうかを判定してブール値（`True`, `False`）で返すようにします。"
      ],
      "metadata": {
        "id": "mTiQIQYYROKP"
      }
    },
    {
      "cell_type": "markdown",
      "source": [
        "> 💡 **ヒント**\n",
        "> \n",
        "> 練習問題2では`digest`メソッドを作成して、パスワード文字列をダイジェストしてデータ変数`pw`に代入しました。`check_password`メソッドに与えられた文字列も同様に`digest`メソッドでダイジェストした上で、両者を`==`で比較しましょう。\n"
      ],
      "metadata": {
        "id": "-53A2JLAR0fE"
      }
    },
    {
      "cell_type": "code",
      "execution_count": null,
      "metadata": {
        "colab": {
          "base_uri": "https://localhost:8080/"
        },
        "id": "BED6gZCE_sSC",
        "outputId": "78de8a9f-0368-4634-aa0a-342e67fc4451",
        "collapsed": true
      },
      "outputs": [
        {
          "output_type": "stream",
          "name": "stdout",
          "text": [
            "------------------------------------------ \n",
            "Name:       Hanako Kyotanabe\n",
            "ID:            abcd1234\n",
            "Password: 22764da5553c20cc80cc579db5bd2257\n",
            "------------------------------------------\n",
            "------------------------------------------ \n",
            "Name:       Taro Imadegawa\n",
            "ID:            efgh5678\n",
            "Password: d613ecfdde4f6a20ca6cf7058a3e61e7\n",
            "------------------------------------------\n",
            "True\n",
            "False\n"
          ]
        }
      ],
      "source": [
        "import hashlib\n",
        "\n",
        "class Student:\n",
        "    def __init__(self, name, sid, pw):\n",
        "        self.name = name\n",
        "        self.sid = sid\n",
        "        self.pw = self.digest(pw)\n",
        "\n",
        "    # 練習問題2のコードをここから記述（digestメソッドを定義しましょう）\n",
        "\n",
        "    def digest(self, pw):\n",
        "        encoded = pw.encode(\"utf-8\")\n",
        "        return hashlib.md5(encoded).hexdigest()\n",
        "    \n",
        "    # 練習問題2のコードはここまで \n",
        "\n",
        "    # 練習問題3のコードをここから記述（check_passwordメソッドを定義しましょう）\n",
        "    \n",
        "    def check_password(self, pw):\n",
        "        return self.pw == self.digest(pw)\n",
        "    \n",
        "    # 練習問題3のコードはここまで\n",
        "\n",
        "    def get_info(self):\n",
        "        sdata = \"------------------------------------------ \\n\" \\\n",
        "                 + \"Name:       \" + self.name      + \"\\n\" \\\n",
        "                 + \"ID:            \" + self.sid          + \"\\n\" \\\n",
        "                 + \"Password: \" + self.pw          + \"\\n\" \\\n",
        "                 + \"------------------------------------------\"\n",
        "        return sdata\n",
        "\n",
        "# Studentクラスのインスタンス（s1, s2）を作成する\n",
        "\n",
        "s1 = Student(\"Hanako Kyotanabe\", \"abcd1234\", \"bad_password\")\n",
        "s2 = Student(\"Taro Imadegawa\", \"efgh5678\", \"another_bad_password\")\n",
        "\n",
        "# s1とs2のget_infoメソッドを呼び出す\n",
        "\n",
        "print(s1.get_info())\n",
        "print(s2.get_info())\n",
        "\n",
        "# s1に正しいパスワードを与えてチェックしてもらう（Trueを得るはず）\n",
        "print(s1.check_password(\"bad_password\"))\n",
        "\n",
        "# s2に誤ったパスワードを与えてチェックしてもらう（Falseを得るはず）\n",
        "print(s2.check_password(\"stupid_password\"))"
      ]
    },
    {
      "cell_type": "markdown",
      "source": [
        "## 4. おわりに\n",
        "\n",
        "お疲れさまでした 🎉\n",
        "\n",
        "Pythonの基本をさらに学び、実際に動くPythonコードを書いて、これまでに学んだ内容を再確認することができました。ここまで来れば、さらに解説書やドキュメントを読んで、コードを書き、加速度をつけて知識とスキルをふやしていけるでしょう\n",
        "\n",
        "今回も一気に色々なことを学んだので、うまく理解できないところがあったかもしれません。時間を作ってこのノートブックを何度も実行すると、次第にわかってくると思います。練習問題の解答は別途共有します。"
      ],
      "metadata": {
        "id": "cZuOm7qQYvYP"
      }
    }
  ],
  "metadata": {
    "kernelspec": {
      "display_name": "Python 3.9.4 64-bit ('base')",
      "language": "python",
      "name": "python3"
    },
    "language_info": {
      "codemirror_mode": {
        "name": "ipython",
        "version": 3
      },
      "file_extension": ".py",
      "mimetype": "text/x-python",
      "name": "python",
      "nbconvert_exporter": "python",
      "pygments_lexer": "ipython3",
      "version": "3.9.4"
    },
    "orig_nbformat": 4,
    "vscode": {
      "interpreter": {
        "hash": "3b5eba98c89f4a60007c2e85b382344fefd9be5f86becb32886b5565e09c1b23"
      }
    },
    "colab": {
      "name": "Pythonプログラミング入門-Part-2-解答付",
      "provenance": [],
      "collapsed_sections": []
    }
  },
  "nbformat": 4,
  "nbformat_minor": 0
}