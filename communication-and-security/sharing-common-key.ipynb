{
  "cells": [
    {
      "cell_type": "markdown",
      "metadata": {
        "id": "GkZ1w-OlLQL9"
      },
      "source": [
        "## **Technology and Communication**\n",
        "\n",
        "同志社大学\n",
        "\n",
        "担当：長谷部陽一郎\n",
        "\n",
        "第7回授業「コミュニケーションとセキュリティ」参考資料\n",
        "\n",
        "<br />\n",
        "\n",
        "--- \n",
        "\n",
        "<br />\n",
        "\n",
        "一方向関数を利用して外部に知られずに「鍵」として使うべき数字（`n`）を2者間で決定したい\n",
        "\n",
        "ひとたび鍵（`n`）を決定すれば、暗号文のやりとりなど様々な用途に活用することができる\n",
        "\n",
        "\n",
        "**登場人物**\n",
        "\n",
        "- Alice（Bobと共通の鍵（`n`）を決めたい）\n",
        "- Bob（Aliceと共通の鍵（`n`）を決めたい）\n",
        "- Eve（AliceとBobの鍵（`n`）を盗みたい）\n",
        "\n",
        "![alice-bob-eve-01.png](https://raw.githubusercontent.com/yohasebe/tech-lecture-notes/main/communication-and-security/images/alice-bob-eve-01.png?token=GHSAT0AAAAAABQ6FOVXL2JELYL5JD6GCVWAYURNIMA)\n"
      ]
    },
    {
      "cell_type": "markdown",
      "metadata": {
        "id": "hNOc3lqy94lr"
      },
      "source": [
        "---\n",
        "\n",
        "オレンジ色のボックスの内容は外部に漏れてもOK\n",
        "\n",
        "AliceとBobだけでなくEveにも筒抜けだが問題ない。\n",
        "\n",
        "![alice-bob-eve-02.png](https://raw.githubusercontent.com/yohasebe/tech-lecture-notes/main/communication-and-security/images/alice-bob-eve-02.png?token=GHSAT0AAAAAABQ6FOVWUXV52GMHIF5I4ZKQYURNI7Q)\n",
        "\n",
        "\n",
        "\n"
      ]
    },
    {
      "cell_type": "code",
      "execution_count": 4,
      "metadata": {
        "id": "_WtJHnm48mp-"
      },
      "outputs": [],
      "source": [
        "# 一方向関数を作成する関数（高階関数を利用）\n",
        "\n",
        "def create_one_way_function(y, p):\n",
        "    def one_way_function(x):\n",
        "        return (y ** x) % p\n",
        "\n",
        "    # もしyがpよりも小さければ必要な一方向関数を返す\n",
        "    if y < p:\n",
        "        return one_way_function\n",
        "    # そうでなければエラーを返す\n",
        "    else:\n",
        "        raise ValueError"
      ]
    },
    {
      "cell_type": "code",
      "execution_count": 5,
      "metadata": {
        "colab": {
          "base_uri": "https://localhost:8080/"
        },
        "id": "0NN53c8vJ_Wj",
        "outputId": "99f781dd-3550-476f-e97a-1f3400dbe4ff"
      },
      "outputs": [
        {
          "name": "stdout",
          "output_type": "stream",
          "text": [
            "Error: y must be smaller than p!\n"
          ]
        }
      ],
      "source": [
        "# エラーチェック\n",
        "\n",
        "# この組み合わせではエラーが出る\n",
        "y_test = 7\n",
        "p_test = 5 \n",
        "\n",
        "try:\n",
        "    create_one_way_function(y_test, p_test)\n",
        "    print(\"No problem!\")\n",
        "except ValueError:\n",
        "    print(\"Error: y must be smaller than p!\")\n"
      ]
    },
    {
      "cell_type": "code",
      "execution_count": 6,
      "metadata": {
        "colab": {
          "base_uri": "https://localhost:8080/"
        },
        "id": "P_mPwjp59tvR",
        "outputId": "2698d2af-e612-42fa-f180-41e804148fd8"
      },
      "outputs": [
        {
          "name": "stdout",
          "output_type": "stream",
          "text": [
            "No problem!\n"
          ]
        }
      ],
      "source": [
        "# アリスとボブの取り決め（エラーは出ない）\n",
        "y = 7\n",
        "p = 11\n",
        "\n",
        "try:\n",
        "    create_one_way_function(y, p)\n",
        "    print(\"No problem!\")\n",
        "except ValueError:\n",
        "    print(\"Error: y must be smaller than p!\")"
      ]
    },
    {
      "cell_type": "code",
      "execution_count": 7,
      "metadata": {
        "id": "L56podsgzzyd"
      },
      "outputs": [],
      "source": [
        "# アリスとボブが使う一方向関数\n",
        "\n",
        "f = create_one_way_function(y, p)"
      ]
    },
    {
      "cell_type": "markdown",
      "metadata": {
        "id": "jykJ2eQUAmT6"
      },
      "source": [
        "---\n",
        "\n",
        "バルーン💭の中の内容はAliceだけ、もしくはBobだけが知っている\n",
        "\n",
        "「頭の中」の数は誰にも知らせない！\n",
        "\n",
        "![alice-bob-eve-03.png](https://raw.githubusercontent.com/yohasebe/tech-lecture-notes/main/communication-and-security/images/alice-bob-eve-03.png?token=GHSAT0AAAAAABQ6FOVXYTHWVYZSVRBSM2GMYURNJWA)\n"
      ]
    },
    {
      "cell_type": "code",
      "execution_count": 8,
      "metadata": {
        "id": "veN0aI0Q9yFe"
      },
      "outputs": [],
      "source": [
        "# アリスの頭の中（アリス以外にはわからない）\n",
        "\n",
        "alpha = 3"
      ]
    },
    {
      "cell_type": "code",
      "execution_count": 9,
      "metadata": {
        "id": "7x0Wi4lg-Gqj"
      },
      "outputs": [],
      "source": [
        "# ボブの頭の中（ボブ以外にはわからない）\n",
        "\n",
        "beta = 6"
      ]
    },
    {
      "cell_type": "markdown",
      "metadata": {
        "id": "ChKffjEaAtcd"
      },
      "source": [
        "互いに「伝える数」は外部に知られてもOK\n",
        "\n",
        "AliceとBobだけでなくEveにも筒抜けだが構わない\n"
      ]
    },
    {
      "cell_type": "code",
      "execution_count": 10,
      "metadata": {
        "colab": {
          "base_uri": "https://localhost:8080/"
        },
        "id": "RkjPA4JE-JE-",
        "outputId": "e458d137-d0a0-4aec-92b6-04b7a4fa0252"
      },
      "outputs": [
        {
          "name": "stdout",
          "output_type": "stream",
          "text": [
            "Alice → Bob: 2\n"
          ]
        }
      ],
      "source": [
        "# アリスがボブに伝える数\n",
        "a = f(alpha)\n",
        "print(f'Alice → Bob: {a}')"
      ]
    },
    {
      "cell_type": "code",
      "execution_count": 11,
      "metadata": {
        "colab": {
          "base_uri": "https://localhost:8080/"
        },
        "id": "jmA0a_sZ-jmD",
        "outputId": "a77294d2-533d-4538-b315-22c01e9afac5"
      },
      "outputs": [
        {
          "name": "stdout",
          "output_type": "stream",
          "text": [
            "Bob → Alice: 4\n"
          ]
        }
      ],
      "source": [
        "# ボブがアリスに伝える数\n",
        "b = f(beta)\n",
        "print(f'Bob → Alice: {b}')"
      ]
    },
    {
      "cell_type": "markdown",
      "metadata": {
        "id": "upvnoF6eB-VT"
      },
      "source": [
        "---\n",
        "\n",
        "「頭の中の数」に基づいて鍵（`n`）を決定する。\n",
        "\n",
        "Aliceの計算結果とBobの計算結果は一致するので鍵として使用できる\n",
        "\n",
        "Eveは鍵を知ることができない。\n",
        "\n",
        "![alice-bob-eve-04.png](https://raw.githubusercontent.com/yohasebe/tech-lecture-notes/main/communication-and-security/images/alice-bob-eve-04.png?token=GHSAT0AAAAAABQ6FOVX4FEAGHHEJBW6ZAFCYURNKVA)"
      ]
    },
    {
      "cell_type": "code",
      "execution_count": 12,
      "metadata": {
        "colab": {
          "base_uri": "https://localhost:8080/"
        },
        "id": "CDgVrOnm_hLL",
        "outputId": "169010e2-1ef2-4099-dd34-835c24184d2d"
      },
      "outputs": [
        {
          "name": "stdout",
          "output_type": "stream",
          "text": [
            "9\n"
          ]
        }
      ],
      "source": [
        "# アリス側での鍵決定作業\n",
        "\n",
        "key_for_alice = (b ** alpha) % 11\n",
        "print(key_for_alice)"
      ]
    },
    {
      "cell_type": "code",
      "execution_count": 13,
      "metadata": {
        "colab": {
          "base_uri": "https://localhost:8080/"
        },
        "id": "5-qtmHCKABkf",
        "outputId": "77a5edc7-52c6-4c06-8d2a-369192d03c76"
      },
      "outputs": [
        {
          "name": "stdout",
          "output_type": "stream",
          "text": [
            "9\n"
          ]
        }
      ],
      "source": [
        "# ボブ側での鍵決定作業\n",
        "\n",
        "key_for_bob = (a ** beta) % 11\n",
        "print(key_for_bob)"
      ]
    },
    {
      "cell_type": "markdown",
      "metadata": {
        "id": "KUT7cYF_CG1N"
      },
      "source": [
        "--- \n",
        "\n",
        "共通の鍵の確認"
      ]
    },
    {
      "cell_type": "code",
      "execution_count": 14,
      "metadata": {
        "colab": {
          "base_uri": "https://localhost:8080/"
        },
        "id": "ecSOocU5AZAI",
        "outputId": "44d009df-61c5-47bb-ad9f-79ff91b06d6d"
      },
      "outputs": [
        {
          "name": "stdout",
          "output_type": "stream",
          "text": [
            "True\n"
          ]
        }
      ],
      "source": [
        "# 共通の鍵となっていれば true\n",
        "\n",
        "print(key_for_alice == key_for_bob)"
      ]
    },
    {
      "cell_type": "markdown",
      "metadata": {
        "id": "5DWnrfqIBm8w"
      },
      "source": [
        "**めでたし、めでたし** 😊"
      ]
    },
    {
      "cell_type": "code",
      "execution_count": null,
      "metadata": {
        "id": "8SgI-ZGdBocs"
      },
      "outputs": [],
      "source": []
    }
  ],
  "metadata": {
    "colab": {
      "collapsed_sections": [],
      "name": "一方向関数を用いた鍵の取り決め.ipynb",
      "provenance": []
    },
    "kernelspec": {
      "display_name": "Python 3.8.8 64-bit ('base')",
      "language": "python",
      "name": "python3"
    },
    "language_info": {
      "codemirror_mode": {
        "name": "ipython",
        "version": 3
      },
      "file_extension": ".py",
      "mimetype": "text/x-python",
      "name": "python",
      "nbconvert_exporter": "python",
      "pygments_lexer": "ipython3",
      "version": "3.8.8"
    },
    "vscode": {
      "interpreter": {
        "hash": "d62d7e0df562ef8022b89b2335a1ed9d3cdb20aaae9f9f50c0c0b5e102f221ca"
      }
    }
  },
  "nbformat": 4,
  "nbformat_minor": 0
}
